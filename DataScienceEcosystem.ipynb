{
 "cells": [
  {
   "cell_type": "markdown",
   "id": "504c1f32",
   "metadata": {},
   "source": [
    "#  Data Science Tools and Ecosystem "
   ]
  },
  {
   "cell_type": "markdown",
   "id": "043372f7",
   "metadata": {},
   "source": [
    "In this notebook, Data Science Tools and Ecosystem are summarized."
   ]
  },
  {
   "cell_type": "markdown",
   "id": "5da16edf",
   "metadata": {},
   "source": [
    "<b>Objectives<b/>\n",
    "<ul>\n",
    "  <li>Describe the components of a Data Scientist's toolkit and list various tool categories.</li>\n",
    "  <li>List examples of open-source tools used in data science.</li>\n",
    "  <li>Describe the relevant features of open-source tools.</li>\n",
    "  <li>List examples of commercial and cloud-based data science tools.</li>\n",
    "</ul>"
   ]
  },
  {
   "cell_type": "markdown",
   "id": "9e908135",
   "metadata": {},
   "source": [
    "Some of the popular languages that Data Scientists use are:\n",
    "<ol type=\"a\">\n",
    "  <li>Python</li>\n",
    "  <li>R</li>\n",
    "  <li>Java</li>\n",
    "  <li>Scala</li>\n",
    "</ol>"
   ]
  },
  {
   "cell_type": "markdown",
   "id": "cf85e3da",
   "metadata": {},
   "source": [
    "Some of the commonly used libraries used by Data Scientists include:\n",
    "<ol type=\"a\">\n",
    "  <li>Numpy</li>\n",
    "  <li>sklearn</li>\n",
    "  <li>Pandas</li>\n",
    "  <li>Matplotlib</li>\n",
    "</ol>"
   ]
  },
  {
   "cell_type": "markdown",
   "id": "75959fe0",
   "metadata": {},
   "source": [
    "  \n",
    "<html> \n",
    " <table>   \n",
    "    <tr>\n",
    "\t\t<th>Data Science Tools</th>\n",
    "\t</tr>\n",
    "\t<tr>\n",
    "\t\t<td>Apache Spark</td>\n",
    "\t</tr>\n",
    "    <tr>\n",
    "\t\t<td>RStudio</td>\n",
    "\t</tr>\n",
    "\t<tr>\n",
    "\t\t<td>Apache Hadoop</td>\n",
    "\t</tr>\n",
    "\t\n",
    "</table>\n",
    "</html>"
   ]
  },
  {
   "cell_type": "markdown",
   "id": "95af32e8",
   "metadata": {},
   "source": [
    "###  Below are a few examples of evaluating arithmetic expressions in Python.\n",
    "\n",
    "2+2\n",
    "\n",
    "4-2\n",
    "\n",
    "1*6\n",
    "\n",
    "9/3\n",
    "\n",
    "10%5"
   ]
  },
  {
   "cell_type": "code",
   "execution_count": 1,
   "id": "4a868e71",
   "metadata": {},
   "outputs": [
    {
     "data": {
      "text/plain": [
       "17"
      ]
     },
     "execution_count": 1,
     "metadata": {},
     "output_type": "execute_result"
    }
   ],
   "source": [
    "#This a simple arithmetic expression to mutiply then add integers.\n",
    "\n",
    "(3*4)+5"
   ]
  },
  {
   "cell_type": "code",
   "execution_count": 2,
   "id": "60c0b519",
   "metadata": {},
   "outputs": [
    {
     "data": {
      "text/plain": [
       "3.3333333333333335"
      ]
     },
     "execution_count": 2,
     "metadata": {},
     "output_type": "execute_result"
    }
   ],
   "source": [
    "#This will convert 200 minutes to hours by diving by 60.\n",
    "\n",
    "200/60"
   ]
  },
  {
   "cell_type": "markdown",
   "id": "2b7dfdcb",
   "metadata": {},
   "source": [
    "## Author \n",
    "\n",
    "Tejashri"
   ]
  }
 ],
 "metadata": {
  "kernelspec": {
   "display_name": "Python 3",
   "language": "python",
   "name": "python3"
  },
  "language_info": {
   "codemirror_mode": {
    "name": "ipython",
    "version": 3
   },
   "file_extension": ".py",
   "mimetype": "text/x-python",
   "name": "python",
   "nbconvert_exporter": "python",
   "pygments_lexer": "ipython3",
   "version": "3.9.7"
  }
 },
 "nbformat": 4,
 "nbformat_minor": 5
}
