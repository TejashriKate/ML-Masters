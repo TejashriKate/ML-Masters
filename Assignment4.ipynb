{
 "cells": [
  {
   "cell_type": "markdown",
   "metadata": {},
   "source": [
    "Q1.1 Write a Python Program(with class concepts) to find the area of the triangle using the below formula. \n",
    "area = (s*(s-a)*(s-b)*(s-c)) ** 0.5 \n",
    "Function to take the length of the sides of triangle from user should be defined in the parent class and function to calculate the area should be defined in subclass. \n"
   ]
  },
  {
   "cell_type": "code",
   "execution_count": 19,
   "metadata": {},
   "outputs": [
    {
     "name": "stdout",
     "output_type": "stream",
     "text": [
      "Enter side 'a':5\n",
      "Enter side 'b':6\n",
      "Enter side 'c':7\n",
      "Area of triangle: 14.70\n"
     ]
    }
   ],
   "source": [
    "class Triangle:\n",
    "             def __init__(self):\n",
    "                  self.a=float(input(\"Enter side 'a':\"))\n",
    "                  self.b=float(input(\"Enter side 'b':\"))\n",
    "                  self.c=float(input(\"Enter side 'c':\"))\n",
    "                   \n",
    "class Area(Triangle):\n",
    "          def calculate(self):\n",
    "                 \n",
    "                 self.s=(self.a + self.b + self.c) / 2   \n",
    "                 self.area = ( self.s*( self.s- self.a)*( self.s- self.b)*( self.s- self.c)) ** 0.5\n",
    "                 print (\"Area of triangle: %0.2f\" %self.area)\n",
    "                \n",
    "              \n",
    "ob=Area()\n",
    "ob.calculate()\n",
    "\n",
    "                \n"
   ]
  },
  {
   "cell_type": "markdown",
   "metadata": {},
   "source": [
    "Q1.2 Write a function filter_long_words() that takes a list of words and an integer n and returns\n",
    "the list of words that are longer than n.\n"
   ]
  },
  {
   "cell_type": "code",
   "execution_count": 65,
   "metadata": {},
   "outputs": [
    {
     "name": "stdout",
     "output_type": "stream",
     "text": [
      "List of words that are longer than n: ['xxxxy', 'lmno', '33333']\n"
     ]
    }
   ],
   "source": [
    "\n",
    "\n",
    "\n",
    "def filter_long_words(lk,n):\n",
    "    op=[]\n",
    "    for i in lk:\n",
    "        if type(i)==str:\n",
    "               if len(i)>n:\n",
    "                    op.append(i)\n",
    "    return op                \n",
    "                \n",
    "print(\"List of words that are longer than n:\",filter_long_words(['abc','xxxxy','z','lmno','33333',9,0,8.8],3))"
   ]
  },
  {
   "cell_type": "markdown",
   "metadata": {},
   "source": [
    "Q2.1 Write a Python program using function concept that maps list of words into a list of integers\n",
    "representing the lengths of the corresponding words.\n",
    "Hint: If a list [ ab,cde,erty] is passed on to the python function output should come as [2,3,4]\n",
    "Here 2,3 and 4 are the lengths of the words in the list"
   ]
  },
  {
   "cell_type": "code",
   "execution_count": 71,
   "metadata": {},
   "outputs": [
    {
     "name": "stdout",
     "output_type": "stream",
     "text": [
      "Mapping of List of words into a list of integers: [3, 5, 1, 4, 5]\n"
     ]
    }
   ],
   "source": [
    "#NORMAL FUNCTION\n",
    "\n",
    "op=[]\n",
    "ip=['abc','xxxxy','z','lmno','33333']\n",
    "def listintoint(l):\n",
    "    for i in l:\n",
    "        op.append(len(i))\n",
    "    return op        \n",
    "\n",
    "print(\"Mapping of List of words into a list of integers:\",listintoint(['abc','xxxxy','z','lmno','33333']))\n"
   ]
  },
  {
   "cell_type": "code",
   "execution_count": 82,
   "metadata": {},
   "outputs": [
    {
     "name": "stdout",
     "output_type": "stream",
     "text": [
      "Mapping of List of words into a list of integers: [3, 5, 1, 4, 5]\n"
     ]
    }
   ],
   "source": [
    "\n",
    "#USING MAP() FUNC\n",
    "ip=['abc','xxxxy','z','lmno','33333']\n",
    "\n",
    "def listintoint(l):\n",
    "      return len(l)\n",
    "print(\"Mapping of List of words into a list of integers:\",list(map(listintoint,ip)))"
   ]
  },
  {
   "cell_type": "markdown",
   "metadata": {},
   "source": [
    "Q2.2 Write a Python function which takes a character (i.e. a string of length 1) and returns True if\n",
    "it is a vowel, False otherwise."
   ]
  },
  {
   "cell_type": "code",
   "execution_count": 64,
   "metadata": {},
   "outputs": [
    {
     "name": "stdout",
     "output_type": "stream",
     "text": [
      "False\tTrue\n"
     ]
    }
   ],
   "source": [
    "\n",
    "def isvowel(ch):\n",
    "    if ch=='a' or ch=='e' or ch=='i' or ch=='o' or ch=='u':\n",
    "        return True\n",
    "    else:\n",
    "        return False\n",
    "a=isvowel('j')    \n",
    "b=isvowel('i')\n",
    "print(a,b,sep=\"\\t\")"
   ]
  }
 ],
 "metadata": {
  "kernelspec": {
   "display_name": "Python 3",
   "language": "python",
   "name": "python3"
  },
  "language_info": {
   "codemirror_mode": {
    "name": "ipython",
    "version": 3
   },
   "file_extension": ".py",
   "mimetype": "text/x-python",
   "name": "python",
   "nbconvert_exporter": "python",
   "pygments_lexer": "ipython3",
   "version": "3.7.0"
  }
 },
 "nbformat": 4,
 "nbformat_minor": 2
}
