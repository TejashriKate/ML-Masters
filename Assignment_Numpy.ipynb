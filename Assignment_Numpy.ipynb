{
 "cells": [
  {
   "cell_type": "markdown",
   "metadata": {},
   "source": [
    "Q1.Write a function so that the columns of the output matrix are powers of the input\n",
    "vector.\n",
    "The order of the powers is determined by the increasing boolean argument. Specifically, when\n",
    "increasing is False, the i-th output column is the input vector raised element-wise to the power\n",
    "of N - i - 1.\n",
    "HINT: Such a matrix with a geometric progression in each row is named for AlexandreTheophile Vandermonde. "
   ]
  },
  {
   "cell_type": "code",
   "execution_count": 78,
   "metadata": {},
   "outputs": [
    {
     "name": "stdout",
     "output_type": "stream",
     "text": [
      "Matrix with a geometric progression in each row is named for AlexandreTheophile Vandermonde:\n",
      " [[ 1  1  1  1]\n",
      " [ 1  2  4  8]\n",
      " [ 1  3  9 27]]\n"
     ]
    }
   ],
   "source": [
    "import pandas as pd\n",
    "import numpy as np\n",
    "\n",
    "\n",
    "try:\n",
    "        def vandermonde_matrix(a,n):\n",
    "                 return np.vander(a,n,increasing=True)\n",
    "        print(\"Matrix with a geometric progression in each row is named for AlexandreTheophile Vandermonde:\\n\",vandermonde_matrix(np.array([1,2,3]),4))    \n",
    "\n",
    "except:\n",
    "       print(\"Error while reading input\")  \n",
    "        \n",
    "        \n",
    "       "
   ]
  },
  {
   "cell_type": "markdown",
   "metadata": {},
   "source": [
    "Q2.Given a sequence of n values x1, x2, ..., xn and a window size k>0, the k-th moving average of\n",
    "the given sequence is defined as follows:\n",
    "The moving average sequence has n-k+1 elements as shown below.\n",
    "The moving averages with k=4 of a ten-value sequence (n=10) is shown below\n",
    "i 1 2 3 4 5 6 7 8 9 10\n",
    "===== == == == == == == == == == ==\n",
    "Input 10 20 30 40 50 60 70 80 90 100\n",
    "y1 25 = (10+20+30+40)/4\n",
    "y2 35 = (20+30+40+50)/4\n",
    "y3 45 = (30+40+50+60)/4\n",
    "y4 55 = (40+50+60+70)/4\n",
    "y5 65 = (50+60+70+80)/4\n",
    "y6 75 = (60+70+80+90)/4\n",
    "y7 85 = (70+80+90+100)/4\n",
    "Thus, the moving average sequence has n-k+1=10-4+1=7 values."
   ]
  },
  {
   "cell_type": "code",
   "execution_count": 79,
   "metadata": {},
   "outputs": [
    {
     "name": "stdout",
     "output_type": "stream",
     "text": [
      "Moving AVG of given array with window 3: [  5   4   5   6   9  28  49  72  84  93 116]\n"
     ]
    }
   ],
   "source": [
    "try:\n",
    "\n",
    "      def moving_avg(a,w):\n",
    "              df=pd.DataFrame(a,columns=['input'])\n",
    "              df['op'] = df.input.rolling(window=w).mean() # to find avg with window size\n",
    "              df=df.dropna()\n",
    "              output=np.array(df['op']).astype('int64')\n",
    "              print( \"Moving AVG of given array with window %i:\" %w,output)\n",
    "      moving_avg( np.array( [3, 5, 7, 2, 8, 10, 11, 65, 72, 81, 99, 100, 150]),3)\n",
    "except:\n",
    "    print(\"Error while reading input\")"
   ]
  }
 ],
 "metadata": {
  "kernelspec": {
   "display_name": "Python 3",
   "language": "python",
   "name": "python3"
  },
  "language_info": {
   "codemirror_mode": {
    "name": "ipython",
    "version": 3
   },
   "file_extension": ".py",
   "mimetype": "text/x-python",
   "name": "python",
   "nbconvert_exporter": "python",
   "pygments_lexer": "ipython3",
   "version": "3.7.0"
  }
 },
 "nbformat": 4,
 "nbformat_minor": 2
}
