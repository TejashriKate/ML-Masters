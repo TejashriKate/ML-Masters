{
 "cells": [
  {
   "cell_type": "markdown",
   "metadata": {},
   "source": [
    "Q1. Create the below pattern using nested for loop in Python.\n",
    "\n",
    "*\n",
    "* *\n",
    "* * *\n",
    "* * * * \n",
    "* * * * *\n",
    "* * * * \n",
    "* * * \n",
    "* * \n",
    "*\n",
    "\n",
    "\n",
    "\n",
    "\n",
    "\n"
   ]
  },
  {
   "cell_type": "code",
   "execution_count": 11,
   "metadata": {},
   "outputs": [
    {
     "name": "stdout",
     "output_type": "stream",
     "text": [
      "* \n",
      "* * \n",
      "* * * \n",
      "* * * * \n",
      "* * * * * \n",
      "* * * * \n",
      "* * * \n",
      "* * \n",
      "* \n",
      "\n"
     ]
    }
   ],
   "source": [
    "no=5\n",
    "for r in range(1,no+1):\n",
    "    for c in range(1,r+1):\n",
    "        print(\"*\",end=\" \")\n",
    "    print()  \n",
    "    \n",
    "for r  in range(no-1,-1,-1):\n",
    "    for c in range(1,r+1):\n",
    "        print(\"*\",end=\" \")\n",
    "    print()    \n",
    "    \n"
   ]
  },
  {
   "cell_type": "markdown",
   "metadata": {},
   "source": [
    "Q2. Write a Python program to reverse a word after accepting the input from the user.\n",
    "\n",
    "    Input word: ineuron\n",
    "    Output: norueni"
   ]
  },
  {
   "cell_type": "code",
   "execution_count": 24,
   "metadata": {},
   "outputs": [
    {
     "name": "stdout",
     "output_type": "stream",
     "text": [
      "Enter a word to reverse: ineuron\n",
      "Reverse of  word:  norueni\n"
     ]
    }
   ],
   "source": [
    "#LOGIC 1\n",
    "\n",
    "word=input(\"Enter a word to reverse: \")\n",
    "rev=word[::-1]\n",
    "print(\"Reverse of  word: \",rev)"
   ]
  },
  {
   "cell_type": "code",
   "execution_count": 20,
   "metadata": {},
   "outputs": [
    {
     "name": "stdout",
     "output_type": "stream",
     "text": [
      "Enter a word to reverse: ineuron\n",
      "Rev word:  norueni\n"
     ]
    }
   ],
   "source": [
    "#LOGIC 2\n",
    "w1=\"\"\n",
    "w=input('Enter a word to reverse: ')\n",
    "for i in w:\n",
    "    w1=i+w1\n",
    "print('Rev word: ',w1)    "
   ]
  },
  {
   "cell_type": "code",
   "execution_count": 23,
   "metadata": {},
   "outputs": [
    {
     "name": "stdout",
     "output_type": "stream",
     "text": [
      "Enter a word to reverse: ineuron\n",
      "norueni"
     ]
    }
   ],
   "source": [
    "#LOGIC 3\n",
    "word=input(\"Enter a word to reverse: \")\n",
    "for i in range(len(word)-1,-1,-1):\n",
    "     print(word[i],end=\"\")\n"
   ]
  }
 ],
 "metadata": {
  "kernelspec": {
   "display_name": "Python 3",
   "language": "python",
   "name": "python3"
  },
  "language_info": {
   "codemirror_mode": {
    "name": "ipython",
    "version": 3
   },
   "file_extension": ".py",
   "mimetype": "text/x-python",
   "name": "python",
   "nbconvert_exporter": "python",
   "pygments_lexer": "ipython3",
   "version": "3.7.0"
  }
 },
 "nbformat": 4,
 "nbformat_minor": 2
}
